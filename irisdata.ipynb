{
  "nbformat": 4,
  "nbformat_minor": 0,
  "metadata": {
    "colab": {
      "provenance": [],
      "authorship_tag": "ABX9TyPcbF0KwzX2loHkepE9CPet",
      "include_colab_link": true
    },
    "kernelspec": {
      "name": "python3",
      "display_name": "Python 3"
    },
    "language_info": {
      "name": "python"
    }
  },
  "cells": [
    {
      "cell_type": "markdown",
      "metadata": {
        "id": "view-in-github",
        "colab_type": "text"
      },
      "source": [
        "<a href=\"https://colab.research.google.com/github/AjayDXavier/Machine-learning/blob/main/irisdata.ipynb\" target=\"_parent\"><img src=\"https://colab.research.google.com/assets/colab-badge.svg\" alt=\"Open In Colab\"/></a>"
      ]
    },
    {
      "cell_type": "code",
      "execution_count": null,
      "metadata": {
        "colab": {
          "base_uri": "https://localhost:8080/"
        },
        "id": "uHDNdCJy3iiV",
        "outputId": "c8a16732-6cc5-4b51-aabc-93ab6f62c730"
      },
      "outputs": [
        {
          "output_type": "stream",
          "name": "stdout",
          "text": [
            "Requirement already satisfied: scikit-learn in /usr/local/lib/python3.11/dist-packages (1.6.1)\n",
            "Requirement already satisfied: numpy>=1.19.5 in /usr/local/lib/python3.11/dist-packages (from scikit-learn) (1.26.4)\n",
            "Requirement already satisfied: scipy>=1.6.0 in /usr/local/lib/python3.11/dist-packages (from scikit-learn) (1.13.1)\n",
            "Requirement already satisfied: joblib>=1.2.0 in /usr/local/lib/python3.11/dist-packages (from scikit-learn) (1.4.2)\n",
            "Requirement already satisfied: threadpoolctl>=3.1.0 in /usr/local/lib/python3.11/dist-packages (from scikit-learn) (3.5.0)\n"
          ]
        }
      ],
      "source": [
        "pip install scikit-learn"
      ]
    },
    {
      "cell_type": "code",
      "source": [
        "from sklearn.neighbors import KNeighborsClassifier\n",
        "from sklearn.model_selection import train_test_split\n",
        "from sklearn.datasets import load_iris\n",
        "import random"
      ],
      "metadata": {
        "id": "k4fxABi84rQ7"
      },
      "execution_count": null,
      "outputs": []
    },
    {
      "cell_type": "code",
      "source": [
        "data_iris=load_iris()"
      ],
      "metadata": {
        "id": "MY6dkNPe42zP"
      },
      "execution_count": null,
      "outputs": []
    },
    {
      "cell_type": "code",
      "source": [
        "label_target=data_iris.target_names\n",
        "print(\"sample data from iris dataset\")\n",
        "print(\"*\"*30)\n",
        "for i in range(10):\n",
        "  rn=random.randint(0,120)\n",
        "  print(data_iris.data[rn],\"===>\",label_target[data_iris.target[rn]])"
      ],
      "metadata": {
        "colab": {
          "base_uri": "https://localhost:8080/"
        },
        "id": "ViWsZ4Ef469s",
        "outputId": "550f6145-dd5c-4160-ea3e-ac23c27bfa94"
      },
      "execution_count": null,
      "outputs": [
        {
          "output_type": "stream",
          "name": "stdout",
          "text": [
            "sample data from iris dataset\n",
            "******************************\n",
            "[7.1 3.  5.9 2.1] ===> virginica\n",
            "[6.6 3.  4.4 1.4] ===> versicolor\n",
            "[5.  3.  1.6 0.2] ===> setosa\n",
            "[4.8 3.  1.4 0.1] ===> setosa\n",
            "[5.4 3.4 1.7 0.2] ===> setosa\n",
            "[4.4 2.9 1.4 0.2] ===> setosa\n",
            "[6.4 2.7 5.3 1.9] ===> virginica\n",
            "[5.  3.4 1.5 0.2] ===> setosa\n",
            "[5.6 3.  4.5 1.5] ===> versicolor\n",
            "[4.4 2.9 1.4 0.2] ===> setosa\n"
          ]
        }
      ]
    },
    {
      "cell_type": "code",
      "source": [
        "x=data_iris.data\n",
        "y=data_iris.target\n",
        "x_train,x_test,y_train,y_test=train_test_split(x,y,test_size=0.3,random_state=1)\n",
        "print(\"the training dataset length\",len(x_train))\n",
        "print(\"the testing dataset length\",len(x_test))"
      ],
      "metadata": {
        "colab": {
          "base_uri": "https://localhost:8080/"
        },
        "id": "Mhs1MxdP5ULX",
        "outputId": "b9fa4e75-054f-426b-e063-ce6855840b5e"
      },
      "execution_count": null,
      "outputs": [
        {
          "output_type": "stream",
          "name": "stdout",
          "text": [
            "the training dataset length 105\n",
            "the testing dataset length 45\n"
          ]
        }
      ]
    },
    {
      "cell_type": "code",
      "source": [
        "try:\n",
        "  nn=int(input(\"enter number of neighbors:\"))\n",
        "  knn=KNeighborsClassifier(nn)\n",
        "\n",
        "  knn.fit(x_train,y_train)\n",
        "  print(\"score is: \",knn.score(x_test,y_test))\n",
        "  test_data=input(\"enter test data:\").split(\",\")\n",
        "  for i in range(len(test_data)):\n",
        "    test_data[i]=float(test_data[i])\n",
        "  print()\n",
        "  v=knn.predict([test_data])\n",
        "  print(\"the predicted output is:\",label_target[v])\n",
        "except:\n",
        "  print(\"please supply valid input.....\")"
      ],
      "metadata": {
        "colab": {
          "base_uri": "https://localhost:8080/"
        },
        "id": "sPBO-wAU6KXR",
        "outputId": "c745b253-dad2-44fd-c9b9-7ba8a8906fdb"
      },
      "execution_count": null,
      "outputs": [
        {
          "output_type": "stream",
          "name": "stdout",
          "text": [
            "enter number of neighbors:100\n",
            "score is:  0.6\n",
            "enter test data:2 3 1 2\n",
            "please supply valid input(only 4 elements)\n"
          ]
        }
      ]
    }
  ]
}