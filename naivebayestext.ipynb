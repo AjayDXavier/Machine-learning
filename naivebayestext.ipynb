{
  "nbformat": 4,
  "nbformat_minor": 0,
  "metadata": {
    "colab": {
      "provenance": [],
      "authorship_tag": "ABX9TyNG3NSpGxlnGcMYUQtik+jZ",
      "include_colab_link": true
    },
    "kernelspec": {
      "name": "python3",
      "display_name": "Python 3"
    },
    "language_info": {
      "name": "python"
    }
  },
  "cells": [
    {
      "cell_type": "markdown",
      "metadata": {
        "id": "view-in-github",
        "colab_type": "text"
      },
      "source": [
        "<a href=\"https://colab.research.google.com/github/AjayDXavier/Machine-learning/blob/main/naivebayestext.ipynb\" target=\"_parent\"><img src=\"https://colab.research.google.com/assets/colab-badge.svg\" alt=\"Open In Colab\"/></a>"
      ]
    },
    {
      "cell_type": "code",
      "source": [
        "import pandas as pd\n",
        "from sklearn.model_selection import train_test_split\n",
        "from sklearn.feature_extraction.text import CountVectorizer\n",
        "from sklearn.naive_bayes import MultinomialNB\n",
        "from sklearn.metrics import accuracy_score, confusion_matrix, precision_score, recall_score\n",
        "\n",
        "\n",
        "msg = pd.read_csv('document.csv', names=['message', 'label'])\n",
        "print(\"Total Instances of Dataset: \", msg.shape[0])\n",
        "\n",
        "\n",
        "msg['labelnum'] = msg.label.map({'pos': 1, 'neg': 0})\n",
        "\n",
        "\n",
        "X = msg.message\n",
        "y = msg.labelnum\n",
        "\n",
        "\n",
        "Xtrain, Xtest, y_train, ytest = train_test_split(X, y)\n",
        "\n",
        "\n",
        "count_v = CountVectorizer()\n",
        "Xtrain_dm = count_v.fit_transform(Xtrain)\n",
        "Xtest_dm = count_v.transform(Xtest)\n",
        "\n",
        "\n",
        "df = pd.DataFrame(Xtrain_dm.toarray(), columns=count_v.get_feature_names_out())\n",
        "\n",
        "\n",
        "clf = MultinomialNB()\n",
        "clf.fit(Xtrain_dm,y_train)\n",
        "\n",
        "\n",
        "pred = clf.predict(Xtest_dm)\n",
        "\n",
        "\n",
        "print('Accuracy Metrics:')\n",
        "print('Accuracy:', accuracy_score(ytest, pred))\n",
        "print('Recall:', recall_score(ytest, pred))\n",
        "print('Precision:', precision_score(ytest, pred))\n",
        "print('Confusion Matrix:\\n', confusion_matrix(ytest, pred))\n"
      ],
      "metadata": {
        "colab": {
          "base_uri": "https://localhost:8080/"
        },
        "id": "DKqDNCTddh0o",
        "outputId": "50121420-b74f-4c12-f6f4-f7f7a2309577"
      },
      "execution_count": null,
      "outputs": [
        {
          "output_type": "stream",
          "name": "stdout",
          "text": [
            "Total Instances of Dataset:  17\n",
            "Accuracy Metrics:\n",
            "Accuracy: 0.8\n",
            "Recall: 0.6666666666666666\n",
            "Precision: 1.0\n",
            "Confusion Matrix:\n",
            " [[2 0]\n",
            " [1 2]]\n"
          ]
        }
      ]
    }
  ]
}