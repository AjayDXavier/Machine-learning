{
  "cells": [
    {
      "cell_type": "markdown",
      "metadata": {
        "id": "view-in-github",
        "colab_type": "text"
      },
      "source": [
        "<a href=\"https://colab.research.google.com/github/AjayDXavier/Machine-learning/blob/main/Enhanced_QoL_Classification.ipynb\" target=\"_parent\"><img src=\"https://colab.research.google.com/assets/colab-badge.svg\" alt=\"Open In Colab\"/></a>"
      ]
    },
    {
      "cell_type": "markdown",
      "id": "b10ce142",
      "metadata": {
        "id": "b10ce142"
      },
      "source": [
        "\n",
        "# 🧠 Enhanced QoL Classification with Machine Learning\n",
        "\n",
        "This notebook builds a predictive model for classifying Quality of Life (QoL) using medical, lifestyle, and demographic data. We use feature engineering, ensemble methods, and model evaluation to improve prediction accuracy.\n"
      ]
    },
    {
      "cell_type": "code",
      "execution_count": null,
      "id": "55112711",
      "metadata": {
        "id": "55112711"
      },
      "outputs": [],
      "source": [
        "\n",
        "import pandas as pd\n",
        "import numpy as np\n",
        "import matplotlib.pyplot as plt\n",
        "import seaborn as sns\n",
        "\n",
        "from sklearn.model_selection import train_test_split, GridSearchCV\n",
        "from sklearn.ensemble import RandomForestClassifier, GradientBoostingClassifier, VotingClassifier\n",
        "from xgboost import XGBClassifier\n",
        "from sklearn.metrics import classification_report, confusion_matrix, accuracy_score\n",
        "from sklearn.preprocessing import LabelEncoder\n",
        "\n",
        "import warnings\n",
        "warnings.filterwarnings('ignore')\n"
      ]
    },
    {
      "cell_type": "code",
      "execution_count": null,
      "id": "e9c5e93e",
      "metadata": {
        "id": "e9c5e93e"
      },
      "outputs": [],
      "source": [
        "\n",
        "# Load data\n",
        "df = pd.read_csv('MLDATA.csv')\n",
        "\n",
        "# Clean column names\n",
        "df.columns = df.columns.str.strip().str.lower().str.replace('[^a-z0-9]', '_', regex=True)\n",
        "\n",
        "# Gender encoding\n",
        "df['gender'] = df['gender'].astype(str).str.strip().str.lower().map({'male': 0, 'female': 1})\n",
        "\n",
        "# Binary columns\n",
        "binary_cols = ['panicattackhistory_yes_no_', 'hypertensionhistory_yes_no_',\n",
        "               'medicationuse_yes_no_', 'smoking_alcohol_etc_yes_no_']\n",
        "for col in binary_cols:\n",
        "    df[col] = df[col].astype(str).str.strip().str.upper().map({'YES': 1, 'NO': 0})\n",
        "\n",
        "# Categorical ordinal column\n",
        "df['socialinteraction_low_med_high_'] = df['socialinteraction_low_med_high_'].astype(str).str.strip().str.upper().map({'LOW': 0, 'MED': 1, 'HIGH': 2})\n",
        "\n",
        "# Extract numeric duration\n",
        "if 'duration' in df.columns:\n",
        "    df['duration'] = df['duration'].astype(str).str.extract(r'(\\d+)').astype(float)\n"
      ]
    },
    {
      "cell_type": "code",
      "execution_count": null,
      "id": "e65f0440",
      "metadata": {
        "id": "e65f0440"
      },
      "outputs": [],
      "source": [
        "\n",
        "# Compute QoL score\n",
        "df['qol_score'] = (\n",
        "    100\n",
        "    - df['painseverity_1_10_'] * 3\n",
        "    - df['anxietyscore'] * 2\n",
        "    - df['depressionscore'] * 2\n",
        "    - df['panicattackhistory_yes_no_'] * 10\n",
        "    - df['hypertensionhistory_yes_no_'] * 5\n",
        "    - df['medicationuse_yes_no_'] * 5\n",
        "    - df['smoking_alcohol_etc_yes_no_'] * 5\n",
        "    + df['sleephours'] * 2\n",
        "    + df['physicalactivity_hoursperweek_'] * 2\n",
        "    + df['socialinteraction_low_med_high_'] * 5\n",
        "    - df['age'] * 0.1\n",
        ")\n",
        "\n",
        "# QoL classification\n",
        "def classify_qol(score):\n",
        "    if score < 40:\n",
        "        return 'Low'\n",
        "    elif score < 70:\n",
        "        return 'Medium'\n",
        "    else:\n",
        "        return 'High'\n",
        "\n",
        "df['qol_class'] = df['qol_score'].apply(classify_qol)\n"
      ]
    },
    {
      "cell_type": "code",
      "execution_count": null,
      "id": "7cd18404",
      "metadata": {
        "id": "7cd18404"
      },
      "outputs": [],
      "source": [
        "\n",
        "cat_cols = ['location', 'trigger', 'occupation']\n",
        "cat_cols = [col for col in cat_cols if col in df.columns]\n",
        "df = pd.get_dummies(df, columns=cat_cols, drop_first=True)\n"
      ]
    },
    {
      "cell_type": "code",
      "execution_count": null,
      "id": "6dbe1eba",
      "metadata": {
        "id": "6dbe1eba"
      },
      "outputs": [],
      "source": [
        "\n",
        "X = df.drop(['qol_score', 'qol_class'], axis=1)\n",
        "y = df['qol_class']\n",
        "\n",
        "X_train, X_test, y_train, y_test = train_test_split(X, y, test_size=0.6, random_state=20)\n"
      ]
    },
    {
      "cell_type": "code",
      "execution_count": null,
      "id": "6d47dcb0",
      "metadata": {
        "id": "6d47dcb0"
      },
      "outputs": [],
      "source": [
        "\n",
        "# Classifiers\n",
        "rf = RandomForestClassifier(n_estimators=150, class_weight='balanced', random_state=42)\n",
        "xgb = XGBClassifier(use_label_encoder=False, eval_metric='mlogloss', random_state=42)\n",
        "gb = GradientBoostingClassifier(n_estimators=100, learning_rate=0.1, random_state=42)\n",
        "\n",
        "# Ensemble\n",
        "voting = VotingClassifier(estimators=[\n",
        "    ('rf', rf), ('xgb', xgb), ('gb', gb)\n",
        "], voting='soft')\n",
        "\n",
        "voting.fit(X_train, y_train)\n",
        "y_pred = voting.predict(X_test)\n"
      ]
    },
    {
      "cell_type": "code",
      "execution_count": null,
      "id": "6b57e0b8",
      "metadata": {
        "colab": {
          "base_uri": "https://localhost:8080/",
          "height": 715
        },
        "id": "6b57e0b8",
        "outputId": "633a5f9f-56ba-48af-81f3-f504aff5c3bb"
      },
      "outputs": [
        {
          "output_type": "stream",
          "name": "stdout",
          "text": [
            "📊 Accuracy: 0.63\n",
            "\n",
            "📋 Classification Report:\n",
            "\n",
            "              precision    recall  f1-score   support\n",
            "\n",
            "        High       0.75      0.71      0.73        34\n",
            "         Low       0.58      0.65      0.61        17\n",
            "      Medium       0.53      0.53      0.53        30\n",
            "\n",
            "    accuracy                           0.63        81\n",
            "   macro avg       0.62      0.63      0.62        81\n",
            "weighted avg       0.63      0.63      0.63        81\n",
            "\n"
          ]
        },
        {
          "output_type": "display_data",
          "data": {
            "text/plain": [
              "<Figure size 640x480 with 2 Axes>"
            ],
            "image/png": "[encoded data removed]"
          },
          "metadata": {}
        }
      ],
      "source": [
        "\n",
        "print(\"📊 Accuracy:\", round(accuracy_score(y_test, y_pred), 3))\n",
        "print(\"\\n📋 Classification Report:\\n\")\n",
        "print(classification_report(y_test, y_pred))\n",
        "\n",
        "# Confusion Matrix\n",
        "conf_matrix = confusion_matrix(y_test, y_pred)\n",
        "sns.heatmap(conf_matrix, annot=True, fmt='d', cmap='Blues',\n",
        "            xticklabels=voting.classes_, yticklabels=voting.classes_)\n",
        "plt.xlabel(\"Predicted\")\n",
        "plt.ylabel(\"Actual\")\n",
        "plt.title(\"Confusion Matrix\")\n",
        "plt.show()\n"
      ]
    },
    {
      "cell_type": "code",
      "source": [
        "from sklearn.model_selection import StratifiedKFold\n",
        "from sklearn.ensemble import RandomForestClassifier\n",
        "from sklearn.metrics import accuracy_score, classification_report\n",
        "import numpy as np\n",
        "\n",
        "# Assuming X and y_cls are defined\n",
        "skf = StratifiedKFold(n_splits=5, shuffle=True, random_state=42)\n",
        "\n",
        "accuracies = []\n",
        "all_y_true = []\n",
        "all_y_pred = []\n",
        "\n",
        "for fold, (train_idx, test_idx) in enumerate(skf.split(X, y_cls)):\n",
        "    X_train, X_test = X.iloc[train_idx], X.iloc[test_idx]\n",
        "    y_train, y_test = y_cls.iloc[train_idx], y_cls.iloc[test_idx]\n",
        "\n",
        "    clf = RandomForestClassifier(n_estimators=100, class_weight='balanced', random_state=42)\n",
        "    clf.fit(X_train, y_train)\n",
        "    y_pred = clf.predict(X_test)\n",
        "\n",
        "    acc = accuracy_score(y_test, y_pred)\n",
        "    accuracies.append(acc)\n",
        "\n",
        "    all_y_true.extend(y_test)\n",
        "    all_y_pred.extend(y_pred)\n",
        "\n",
        "    print(f\"Fold {fold+1} Accuracy: {round(acc, 3)}\")\n",
        "\n",
        "print(\"\\n📊 Average Accuracy across 5 folds:\", round(np.mean(accuracies), 3))\n",
        "print(\"\\n📋 Overall Classification Report:\")\n",
        "print(classification_report(all_y_true, all_y_pred))\n"
      ],
      "metadata": {
        "id": "WRjEOEe72ZCB",
        "outputId": "cfe047b2-b677-44a3-e27e-d609183d11a3",
        "colab": {
          "base_uri": "https://localhost:8080/",
          "height": 211
        }
      },
      "id": "WRjEOEe72ZCB",
      "execution_count": null,
      "outputs": [
        {
          "output_type": "error",
          "ename": "NameError",
          "evalue": "name 'y_cls' is not defined",
          "traceback": [
            "\u001b[0;31m---------------------------------------------------------------------------\u001b[0m",
            "\u001b[0;31mNameError\u001b[0m                                 Traceback (most recent call last)",
            "\u001b[0;32m<ipython-input-30-3479723318ba>\u001b[0m in \u001b[0;36m<cell line: 0>\u001b[0;34m()\u001b[0m\n\u001b[1;32m     11\u001b[0m \u001b[0mall_y_pred\u001b[0m \u001b[0;34m=\u001b[0m \u001b[0;34m[\u001b[0m\u001b[0;34m]\u001b[0m\u001b[0;34m\u001b[0m\u001b[0;34m\u001b[0m\u001b[0m\n\u001b[1;32m     12\u001b[0m \u001b[0;34m\u001b[0m\u001b[0m\n\u001b[0;32m---> 13\u001b[0;31m \u001b[0;32mfor\u001b[0m \u001b[0mfold\u001b[0m\u001b[0;34m,\u001b[0m \u001b[0;34m(\u001b[0m\u001b[0mtrain_idx\u001b[0m\u001b[0;34m,\u001b[0m \u001b[0mtest_idx\u001b[0m\u001b[0;34m)\u001b[0m \u001b[0;32min\u001b[0m \u001b[0menumerate\u001b[0m\u001b[0;34m(\u001b[0m\u001b[0mskf\u001b[0m\u001b[0;34m.\u001b[0m\u001b[0msplit\u001b[0m\u001b[0;34m(\u001b[0m\u001b[0mX\u001b[0m\u001b[0;34m,\u001b[0m \u001b[0my_cls\u001b[0m\u001b[0;34m)\u001b[0m\u001b[0;34m)\u001b[0m\u001b[0;34m:\u001b[0m\u001b[0;34m\u001b[0m\u001b[0;34m\u001b[0m\u001b[0m\n\u001b[0m\u001b[1;32m     14\u001b[0m     \u001b[0mX_train\u001b[0m\u001b[0;34m,\u001b[0m \u001b[0mX_test\u001b[0m \u001b[0;34m=\u001b[0m \u001b[0mX\u001b[0m\u001b[0;34m.\u001b[0m\u001b[0miloc\u001b[0m\u001b[0;34m[\u001b[0m\u001b[0mtrain_idx\u001b[0m\u001b[0;34m]\u001b[0m\u001b[0;34m,\u001b[0m \u001b[0mX\u001b[0m\u001b[0;34m.\u001b[0m\u001b[0miloc\u001b[0m\u001b[0;34m[\u001b[0m\u001b[0mtest_idx\u001b[0m\u001b[0;34m]\u001b[0m\u001b[0;34m\u001b[0m\u001b[0;34m\u001b[0m\u001b[0m\n\u001b[1;32m     15\u001b[0m     \u001b[0my_train\u001b[0m\u001b[0;34m,\u001b[0m \u001b[0my_test\u001b[0m \u001b[0;34m=\u001b[0m \u001b[0my_cls\u001b[0m\u001b[0;34m.\u001b[0m\u001b[0miloc\u001b[0m\u001b[0;34m[\u001b[0m\u001b[0mtrain_idx\u001b[0m\u001b[0;34m]\u001b[0m\u001b[0;34m,\u001b[0m \u001b[0my_cls\u001b[0m\u001b[0;34m.\u001b[0m\u001b[0miloc\u001b[0m\u001b[0;34m[\u001b[0m\u001b[0mtest_idx\u001b[0m\u001b[0;34m]\u001b[0m\u001b[0;34m\u001b[0m\u001b[0;34m\u001b[0m\u001b[0m\n",
            "\u001b[0;31mNameError\u001b[0m: name 'y_cls' is not defined"
          ]
        }
      ]
    }
  ],
  "metadata": {
    "colab": {
      "provenance": [],
      "include_colab_link": true
    },
    "language_info": {
      "name": "python"
    },
    "kernelspec": {
      "name": "python3",
      "display_name": "Python 3"
    }
  },
  "nbformat": 4,
  "nbformat_minor": 5
}