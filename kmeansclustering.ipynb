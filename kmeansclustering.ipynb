{
  "nbformat": 4,
  "nbformat_minor": 0,
  "metadata": {
    "colab": {
      "provenance": [],
      "authorship_tag": "ABX9TyOlEl2365WAHhi4sNyafTRE",
      "include_colab_link": true
    },
    "kernelspec": {
      "name": "python3",
      "display_name": "Python 3"
    },
    "language_info": {
      "name": "python"
    }
  },
  "cells": [
    {
      "cell_type": "markdown",
      "metadata": {
        "id": "view-in-github",
        "colab_type": "text"
      },
      "source": [
        "<a href=\"https://colab.research.google.com/github/AjayDXavier/Machine-learning/blob/main/kmeansclustering.ipynb\" target=\"_parent\"><img src=\"https://colab.research.google.com/assets/colab-badge.svg\" alt=\"Open In Colab\"/></a>"
      ]
    },
    {
      "cell_type": "code",
      "execution_count": null,
      "metadata": {
        "colab": {
          "base_uri": "https://localhost:8080/"
        },
        "id": "3LMpVvo4ukTU",
        "outputId": "d20ba6f8-4fa3-4aa4-9bde-185fd4e03434"
      },
      "outputs": [
        {
          "output_type": "stream",
          "name": "stdout",
          "text": [
            "Requirement already satisfied: scikit-learn in /usr/local/lib/python3.11/dist-packages (1.6.1)\n",
            "Requirement already satisfied: numpy>=1.19.5 in /usr/local/lib/python3.11/dist-packages (from scikit-learn) (1.26.4)\n",
            "Requirement already satisfied: scipy>=1.6.0 in /usr/local/lib/python3.11/dist-packages (from scikit-learn) (1.14.1)\n",
            "Requirement already satisfied: joblib>=1.2.0 in /usr/local/lib/python3.11/dist-packages (from scikit-learn) (1.4.2)\n",
            "Requirement already satisfied: threadpoolctl>=3.1.0 in /usr/local/lib/python3.11/dist-packages (from scikit-learn) (3.5.0)\n",
            "input data is\n",
            "VAR1 \t VAR2 \t CLASS\n",
            "1.713 \t 1.586 \t 0\n",
            "0.18 \t 1.786 \t 1\n",
            "0.353 \t 1.24 \t 1\n",
            "0.94 \t 1.566 \t 0\n",
            "1.486 \t 0.759 \t 1\n",
            "1.266 \t 1.106 \t 0\n",
            "1.154 \t 0.419 \t 1\n",
            "0.459 \t 1.799 \t 1\n",
            "0.773 \t 0.186 \t 1\n",
            "====================\n"
          ]
        }
      ],
      "source": [
        "!pip install scikit-learn\n",
        "from sklearn.cluster import KMeans\n",
        "import numpy as np\n",
        "x=np.array([[1.713,1.586],[0.180,1.786],[0.353,1.240],[0.940,1.566],[1.486,0.759],[1.266,1.106],[1.1540,0.419],[0.459,1.799],[0.773,0.186]])\n",
        "y=np.array([0,1,1,0,1,0,1,1,1])\n",
        "kmeans=KMeans(n_clusters=3,random_state=0).fit(x) #removed y from fit parameters\n",
        "print(\"input data is\")\n",
        "print(\"VAR1 \\t VAR2 \\t CLASS\")\n",
        "i=0\n",
        "for val in x:\n",
        "  print(val[0],\"\\t\",val[1],\"\\t\",y[i])\n",
        "  i+=1\n",
        "print(\"=\"*20)"
      ]
    },
    {
      "cell_type": "code",
      "source": [
        "print(\"test data to predict\")\n",
        "test_data=[]\n",
        "VAR1=float(input(\"Enter VAR1:\"))\n",
        "test_data.append(VAR1)\n",
        "VAR2=float(input(\"Enter VAR2:\"))\n",
        "test_data.append(VAR2)\n",
        "print(\"=\"*20)\n",
        "print(\"Predicted class is\",kmeans.predict([test_data]))"
      ],
      "metadata": {
        "colab": {
          "base_uri": "https://localhost:8080/"
        },
        "id": "uU9mLA9txHK9",
        "outputId": "8a956c5c-99af-4908-93d0-267e9a7bde49"
      },
      "execution_count": null,
      "outputs": [
        {
          "output_type": "stream",
          "name": "stdout",
          "text": [
            "test data to predict\n",
            "Enter VAR1:0.345\n",
            "Enter VAR2:1.453\n",
            "====================\n",
            "Predicted class is [1]\n"
          ]
        }
      ]
    },
    {
      "cell_type": "code",
      "source": [],
      "metadata": {
        "id": "qEpWYLafJ71e"
      },
      "execution_count": null,
      "outputs": []
    }
  ]
}